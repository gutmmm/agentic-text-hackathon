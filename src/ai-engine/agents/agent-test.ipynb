{
 "cells": [
  {
   "cell_type": "code",
   "execution_count": 1,
   "metadata": {},
   "outputs": [
    {
     "name": "stdout",
     "output_type": "stream",
     "text": [
      "Hello\n"
     ]
    }
   ],
   "source": [
    "print('Hello')"
   ]
  },
  {
   "cell_type": "code",
   "execution_count": 6,
   "metadata": {},
   "outputs": [
    {
     "name": "stdout",
     "output_type": "stream",
     "text": [
      "\n",
      "\n",
      "\n",
      "\n"
     ]
    },
    {
     "data": {
      "text/html": [
       "<pre style=\"white-space:pre;overflow-x:auto;line-height:normal;font-family:Menlo,'DejaVu Sans Mono',consolas,'Courier New',monospace\"><span style=\"color: #800080; text-decoration-color: #800080; font-weight: bold\">╭──────────────────────────────────</span> Agent Name swarm-worker-01 [Max Loops: 1 ] <span style=\"color: #800080; text-decoration-color: #800080; font-weight: bold\">───────────────────────────────────╮</span>\n",
       "<span style=\"color: #800080; text-decoration-color: #800080; font-weight: bold\">│ swarm-worker-01: I'm here and ready to assist you! How can I help you today?                                    │</span>\n",
       "<span style=\"color: #800080; text-decoration-color: #800080; font-weight: bold\">╰─────────────────────────────────────────────────────────────────────────────────────────────────────────────────╯</span>\n",
       "</pre>\n"
      ],
      "text/plain": [
       "\u001b[1;35m╭─\u001b[0m\u001b[1;35m─────────────────────────────────\u001b[0m Agent Name swarm-worker-01 [Max Loops: 1 ] \u001b[1;35m──────────────────────────────────\u001b[0m\u001b[1;35m─╮\u001b[0m\n",
       "\u001b[1;35m│\u001b[0m\u001b[1;35m \u001b[0m\u001b[1;35mswarm-worker-01: I'm here and ready to assist you! How can I help you today?\u001b[0m\u001b[1;35m                                   \u001b[0m\u001b[1;35m \u001b[0m\u001b[1;35m│\u001b[0m\n",
       "\u001b[1;35m╰─────────────────────────────────────────────────────────────────────────────────────────────────────────────────╯\u001b[0m\n"
      ]
     },
     "metadata": {},
     "output_type": "display_data"
    }
   ],
   "source": [
    "import os\n",
    "from dotenv import load_dotenv\n",
    "from swarms import Agent\n",
    "from swarm_models import OpenAIChat\n",
    "\n",
    "load_dotenv()\n",
    "\n",
    "# Initialize the language model\n",
    "llm = OpenAIChat(\n",
    "    temperature=0.1, model_name=\"gpt-4o-mini\", max_tokens=1000\n",
    ")\n",
    "\n",
    "## Initialize the workflow\n",
    "agent = Agent(llm=llm, max_loops=1, autosave=True)\n",
    "  \n",
    "# Run the workflow on a task\n",
    "response = agent.run(\"Hello, how are you?\")\n"
   ]
  },
  {
   "cell_type": "code",
   "execution_count": null,
   "metadata": {},
   "outputs": [],
   "source": []
  }
 ],
 "metadata": {
  "kernelspec": {
   "display_name": ".venv",
   "language": "python",
   "name": "python3"
  },
  "language_info": {
   "codemirror_mode": {
    "name": "ipython",
    "version": 3
   },
   "file_extension": ".py",
   "mimetype": "text/x-python",
   "name": "python",
   "nbconvert_exporter": "python",
   "pygments_lexer": "ipython3",
   "version": "3.12.3"
  }
 },
 "nbformat": 4,
 "nbformat_minor": 2
}
